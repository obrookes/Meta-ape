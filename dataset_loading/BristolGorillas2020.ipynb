{
 "cells": [
  {
   "cell_type": "code",
   "execution_count": 1,
   "id": "together-arrival",
   "metadata": {},
   "outputs": [],
   "source": [
    "import bg20\n",
    "from bg20 import BristolGorilla2020"
   ]
  },
  {
   "cell_type": "code",
   "execution_count": 2,
   "id": "chinese-norfolk",
   "metadata": {},
   "outputs": [],
   "source": [
    "import pandas as pd"
   ]
  },
  {
   "cell_type": "code",
   "execution_count": 3,
   "id": "marked-automation",
   "metadata": {},
   "outputs": [],
   "source": [
    "import torch\n",
    "import torch.nn as nn\n",
    "import torch.nn.functional as F\n",
    "from torchvision import datasets, transforms, models\n",
    "from torch.utils.data import DataLoader\n",
    "from torch import optim"
   ]
  },
  {
   "cell_type": "code",
   "execution_count": 4,
   "id": "incoming-pencil",
   "metadata": {},
   "outputs": [],
   "source": [
    "path = '../../BristolGorillas2020/images/train/'\n",
    "data = '../data/bg2020_train.csv'"
   ]
  },
  {
   "cell_type": "code",
   "execution_count": 5,
   "id": "breeding-fiction",
   "metadata": {},
   "outputs": [],
   "source": [
    "# Define relevant transformations inc. converting images to tensors\n",
    "transform = transforms.Compose([transforms.ToTensor(),\n",
    "                                transforms.Resize((50,50))\n",
    "                               ])"
   ]
  },
  {
   "cell_type": "code",
   "execution_count": 6,
   "id": "contemporary-reduction",
   "metadata": {},
   "outputs": [],
   "source": [
    "dataset = pd.read_csv(data)"
   ]
  },
  {
   "cell_type": "code",
   "execution_count": 7,
   "id": "sublime-uganda",
   "metadata": {},
   "outputs": [
    {
     "data": {
      "text/html": [
       "<div>\n",
       "<style scoped>\n",
       "    .dataframe tbody tr th:only-of-type {\n",
       "        vertical-align: middle;\n",
       "    }\n",
       "\n",
       "    .dataframe tbody tr th {\n",
       "        vertical-align: top;\n",
       "    }\n",
       "\n",
       "    .dataframe thead th {\n",
       "        text-align: right;\n",
       "    }\n",
       "</style>\n",
       "<table border=\"1\" class=\"dataframe\">\n",
       "  <thead>\n",
       "    <tr style=\"text-align: right;\">\n",
       "      <th></th>\n",
       "      <th>Unnamed: 0</th>\n",
       "      <th>file_name</th>\n",
       "      <th>annotation_file</th>\n",
       "      <th>image_path</th>\n",
       "      <th>annotation_path</th>\n",
       "      <th>annotation</th>\n",
       "    </tr>\n",
       "  </thead>\n",
       "  <tbody>\n",
       "    <tr>\n",
       "      <th>0</th>\n",
       "      <td>0</td>\n",
       "      <td>ayana-1-img-1.jpg</td>\n",
       "      <td>ayana-1-img-1.txt</td>\n",
       "      <td>../../BristolGorillas2020/images/train/ayana/a...</td>\n",
       "      <td>../../BristolGorillas2020/images/train/ayana/a...</td>\n",
       "      <td>1 0.557292 0.212500 0.026042 0.036111</td>\n",
       "    </tr>\n",
       "    <tr>\n",
       "      <th>1</th>\n",
       "      <td>1</td>\n",
       "      <td>ayana-1-img-2.jpg</td>\n",
       "      <td>ayana-1-img-2.txt</td>\n",
       "      <td>../../BristolGorillas2020/images/train/ayana/a...</td>\n",
       "      <td>../../BristolGorillas2020/images/train/ayana/a...</td>\n",
       "      <td>1 0.914844 0.618981 0.167187 0.308333</td>\n",
       "    </tr>\n",
       "    <tr>\n",
       "      <th>2</th>\n",
       "      <td>2</td>\n",
       "      <td>ayana-1-img-3.jpg</td>\n",
       "      <td>ayana-1-img-3.txt</td>\n",
       "      <td>../../BristolGorillas2020/images/train/ayana/a...</td>\n",
       "      <td>../../BristolGorillas2020/images/train/ayana/a...</td>\n",
       "      <td>1 0.657031 0.431481 0.030729 0.079630</td>\n",
       "    </tr>\n",
       "    <tr>\n",
       "      <th>3</th>\n",
       "      <td>3</td>\n",
       "      <td>ayana-1-img-4.jpg</td>\n",
       "      <td>ayana-1-img-4.txt</td>\n",
       "      <td>../../BristolGorillas2020/images/train/ayana/a...</td>\n",
       "      <td>../../BristolGorillas2020/images/train/ayana/a...</td>\n",
       "      <td>1 0.473438 0.503241 0.023958 0.058333</td>\n",
       "    </tr>\n",
       "    <tr>\n",
       "      <th>4</th>\n",
       "      <td>4</td>\n",
       "      <td>ayana-1-img-5.jpg</td>\n",
       "      <td>ayana-1-img-5.txt</td>\n",
       "      <td>../../BristolGorillas2020/images/train/ayana/a...</td>\n",
       "      <td>../../BristolGorillas2020/images/train/ayana/a...</td>\n",
       "      <td>1 0.575521 0.295370 0.044792 0.083333</td>\n",
       "    </tr>\n",
       "  </tbody>\n",
       "</table>\n",
       "</div>"
      ],
      "text/plain": [
       "   Unnamed: 0          file_name    annotation_file  \\\n",
       "0           0  ayana-1-img-1.jpg  ayana-1-img-1.txt   \n",
       "1           1  ayana-1-img-2.jpg  ayana-1-img-2.txt   \n",
       "2           2  ayana-1-img-3.jpg  ayana-1-img-3.txt   \n",
       "3           3  ayana-1-img-4.jpg  ayana-1-img-4.txt   \n",
       "4           4  ayana-1-img-5.jpg  ayana-1-img-5.txt   \n",
       "\n",
       "                                          image_path  \\\n",
       "0  ../../BristolGorillas2020/images/train/ayana/a...   \n",
       "1  ../../BristolGorillas2020/images/train/ayana/a...   \n",
       "2  ../../BristolGorillas2020/images/train/ayana/a...   \n",
       "3  ../../BristolGorillas2020/images/train/ayana/a...   \n",
       "4  ../../BristolGorillas2020/images/train/ayana/a...   \n",
       "\n",
       "                                     annotation_path  \\\n",
       "0  ../../BristolGorillas2020/images/train/ayana/a...   \n",
       "1  ../../BristolGorillas2020/images/train/ayana/a...   \n",
       "2  ../../BristolGorillas2020/images/train/ayana/a...   \n",
       "3  ../../BristolGorillas2020/images/train/ayana/a...   \n",
       "4  ../../BristolGorillas2020/images/train/ayana/a...   \n",
       "\n",
       "                              annotation  \n",
       "0  1 0.557292 0.212500 0.026042 0.036111  \n",
       "1  1 0.914844 0.618981 0.167187 0.308333  \n",
       "2  1 0.657031 0.431481 0.030729 0.079630  \n",
       "3  1 0.473438 0.503241 0.023958 0.058333  \n",
       "4  1 0.575521 0.295370 0.044792 0.083333  "
      ]
     },
     "execution_count": 7,
     "metadata": {},
     "output_type": "execute_result"
    }
   ],
   "source": [
    "dataset.head()"
   ]
  },
  {
   "cell_type": "code",
   "execution_count": 8,
   "id": "revolutionary-louis",
   "metadata": {},
   "outputs": [],
   "source": [
    "bristol_gorillas=BristolGorilla2020(path=path,dataset=dataset,transform=transform)"
   ]
  },
  {
   "cell_type": "code",
   "execution_count": 9,
   "id": "worst-memorabilia",
   "metadata": {},
   "outputs": [],
   "source": [
    "train_loader=DataLoader(dataset=bristol_gorillas,batch_size=10,shuffle=True)"
   ]
  },
  {
   "cell_type": "code",
   "execution_count": 10,
   "id": "scientific-client",
   "metadata": {},
   "outputs": [],
   "source": [
    "img, label = next(iter(train_loader))"
   ]
  },
  {
   "cell_type": "code",
   "execution_count": 11,
   "id": "charitable-summer",
   "metadata": {},
   "outputs": [
    {
     "data": {
      "text/plain": [
       "(torch.Size([10, 3, 50, 50]), tensor([1, 3, 6, 0, 0, 0, 3, 0, 4, 5]))"
      ]
     },
     "execution_count": 11,
     "metadata": {},
     "output_type": "execute_result"
    }
   ],
   "source": [
    "img.shape, label"
   ]
  },
  {
   "cell_type": "code",
   "execution_count": 12,
   "id": "executed-appointment",
   "metadata": {},
   "outputs": [
    {
     "data": {
      "image/png": "[encoded data removed]",
      "text/plain": [
       "<Figure size 432x288 with 1 Axes>"
      ]
     },
     "metadata": {
      "needs_background": "light"
     },
     "output_type": "display_data"
    }
   ],
   "source": [
    "import matplotlib.pyplot as plt\n",
    "plt.imshow(img[1].permute(1, 2, 0));"
   ]
  },
  {
   "cell_type": "markdown",
   "id": "infinite-platinum",
   "metadata": {},
   "source": [
    "**Learn2learn**"
   ]
  },
  {
   "cell_type": "code",
   "execution_count": 13,
   "id": "favorite-wildlife",
   "metadata": {},
   "outputs": [],
   "source": [
    "import learn2learn as l2l"
   ]
  },
  {
   "cell_type": "code",
   "execution_count": 14,
   "id": "billion-times",
   "metadata": {},
   "outputs": [],
   "source": [
    "dataset = dataset[:100]"
   ]
  },
  {
   "cell_type": "code",
   "execution_count": 15,
   "id": "formed-backup",
   "metadata": {},
   "outputs": [],
   "source": [
    "dataset = l2l.data.MetaDataset(BristolGorilla2020(path=path,dataset=dataset,transform=transform))"
   ]
  },
  {
   "cell_type": "code",
   "execution_count": 16,
   "id": "secret-straight",
   "metadata": {},
   "outputs": [],
   "source": [
    "transforms = [  # Easy to define your own transform\n",
    "    l2l.data.transforms.NWays(dataset, n=1),\n",
    "    l2l.data.transforms.KShots(dataset, k=1),\n",
    "    l2l.data.transforms.LoadData(dataset),\n",
    "]\n",
    "taskset = l2l.data.TaskDataset(dataset, transforms, num_tasks=10)\n",
    "for task in taskset:\n",
    "    X, y = task"
   ]
  },
  {
   "cell_type": "code",
   "execution_count": 17,
   "id": "surprised-queens",
   "metadata": {},
   "outputs": [
    {
     "data": {
      "text/plain": [
       "(tensor([[[[0.1086, 0.1096, 0.1081,  ..., 0.0623, 0.0672, 0.0825],\n",
       "           [0.1158, 0.1169, 0.1119,  ..., 0.0591, 0.0655, 0.0733],\n",
       "           [0.1103, 0.1131, 0.1020,  ..., 0.0522, 0.0525, 0.0594],\n",
       "           ...,\n",
       "           [0.0619, 0.0569, 0.0573,  ..., 0.0873, 0.0855, 0.0942],\n",
       "           [0.0627, 0.0605, 0.0555,  ..., 0.0951, 0.0971, 0.0952],\n",
       "           [0.0639, 0.0563, 0.0613,  ..., 0.1015, 0.1029, 0.1063]],\n",
       " \n",
       "          [[0.0812, 0.0821, 0.0807,  ..., 0.0427, 0.0475, 0.0657],\n",
       "           [0.0884, 0.0895, 0.0845,  ..., 0.0395, 0.0459, 0.0536],\n",
       "           [0.0828, 0.0857, 0.0745,  ..., 0.0325, 0.0329, 0.0398],\n",
       "           ...,\n",
       "           [0.0383, 0.0373, 0.0376,  ..., 0.0638, 0.0659, 0.0746],\n",
       "           [0.0431, 0.0409, 0.0359,  ..., 0.0715, 0.0729, 0.0717],\n",
       "           [0.0443, 0.0367, 0.0417,  ..., 0.0780, 0.0794, 0.0827]],\n",
       " \n",
       "          [[0.0930, 0.0939, 0.0924,  ..., 0.0466, 0.0515, 0.0641],\n",
       "           [0.1002, 0.1055, 0.1005,  ..., 0.0435, 0.0498, 0.0576],\n",
       "           [0.0946, 0.0974, 0.0863,  ..., 0.0365, 0.0368, 0.0437],\n",
       "           ...,\n",
       "           [0.0423, 0.0413, 0.0416,  ..., 0.0677, 0.0698, 0.0785],\n",
       "           [0.0471, 0.0448, 0.0399,  ..., 0.0755, 0.0768, 0.0756],\n",
       "           [0.0482, 0.0406, 0.0456,  ..., 0.0819, 0.0833, 0.0867]]]]),\n",
       " tensor([1]))"
      ]
     },
     "execution_count": 17,
     "metadata": {},
     "output_type": "execute_result"
    }
   ],
   "source": [
    "X, y"
   ]
  },
  {
   "cell_type": "code",
   "execution_count": null,
   "id": "corresponding-needle",
   "metadata": {},
   "outputs": [],
   "source": []
  }
 ],
 "metadata": {
  "kernelspec": {
   "display_name": "Python 3",
   "language": "python",
   "name": "python3"
  },
  "language_info": {
   "codemirror_mode": {
    "name": "ipython",
    "version": 3
   },
   "file_extension": ".py",
   "mimetype": "text/x-python",
   "name": "python",
   "nbconvert_exporter": "python",
   "pygments_lexer": "ipython3",
   "version": "3.8.5"
  }
 },
 "nbformat": 4,
 "nbformat_minor": 5
}
