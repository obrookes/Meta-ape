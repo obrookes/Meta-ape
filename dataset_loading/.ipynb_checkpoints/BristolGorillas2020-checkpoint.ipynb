{
 "cells": [
  {
   "cell_type": "code",
   "execution_count": 19,
   "id": "checked-prompt",
   "metadata": {},
   "outputs": [],
   "source": [
    "import bg20\n",
    "from bg20 import BristolGorilla2020"
   ]
  },
  {
   "cell_type": "code",
   "execution_count": 20,
   "id": "lyric-theory",
   "metadata": {},
   "outputs": [],
   "source": [
    "import pandas as pd"
   ]
  },
  {
   "cell_type": "code",
   "execution_count": 21,
   "id": "convenient-bridge",
   "metadata": {},
   "outputs": [],
   "source": [
    "import torch\n",
    "import torch.nn as nn\n",
    "import torch.nn.functional as F\n",
    "from torchvision import datasets, transforms, models\n",
    "from torch.utils.data import DataLoader\n",
    "from torch import optim"
   ]
  },
  {
   "cell_type": "code",
   "execution_count": 22,
   "id": "strategic-surgeon",
   "metadata": {},
   "outputs": [],
   "source": [
    "path = '../../BristolGorillas2020/images/train/'\n",
    "data = '../preprocessing/bg2020_train.csv'"
   ]
  },
  {
   "cell_type": "code",
   "execution_count": 23,
   "id": "collaborative-slovenia",
   "metadata": {},
   "outputs": [],
   "source": [
    "# Define relevant transformations inc. converting images to tensors\n",
    "transform = transforms.Compose([transforms.ToTensor(),\n",
    "                                transforms.Resize((50,50))\n",
    "                               ])"
   ]
  },
  {
   "cell_type": "code",
   "execution_count": 24,
   "id": "contrary-jaguar",
   "metadata": {},
   "outputs": [],
   "source": [
    "dataset = pd.read_csv(data)"
   ]
  },
  {
   "cell_type": "code",
   "execution_count": 25,
   "id": "lightweight-capital",
   "metadata": {},
   "outputs": [
    {
     "data": {
      "text/html": [
       "<div>\n",
       "<style scoped>\n",
       "    .dataframe tbody tr th:only-of-type {\n",
       "        vertical-align: middle;\n",
       "    }\n",
       "\n",
       "    .dataframe tbody tr th {\n",
       "        vertical-align: top;\n",
       "    }\n",
       "\n",
       "    .dataframe thead th {\n",
       "        text-align: right;\n",
       "    }\n",
       "</style>\n",
       "<table border=\"1\" class=\"dataframe\">\n",
       "  <thead>\n",
       "    <tr style=\"text-align: right;\">\n",
       "      <th></th>\n",
       "      <th>Unnamed: 0</th>\n",
       "      <th>file_name</th>\n",
       "      <th>annotation_file</th>\n",
       "      <th>image_path</th>\n",
       "      <th>annotation_path</th>\n",
       "      <th>annotation_0</th>\n",
       "      <th>annotation_1</th>\n",
       "      <th>annotation_2</th>\n",
       "    </tr>\n",
       "  </thead>\n",
       "  <tbody>\n",
       "    <tr>\n",
       "      <th>0</th>\n",
       "      <td>0</td>\n",
       "      <td>ayana-1-img-1.jpg</td>\n",
       "      <td>ayana-1-img-1.txt</td>\n",
       "      <td>../../BristolGorillas2020/images/train/ayana/a...</td>\n",
       "      <td>../../BristolGorillas2020/images/train/ayana/a...</td>\n",
       "      <td>1 0.557292 0.212500 0.026042 0.036111</td>\n",
       "      <td>NaN</td>\n",
       "      <td>NaN</td>\n",
       "    </tr>\n",
       "    <tr>\n",
       "      <th>1</th>\n",
       "      <td>1</td>\n",
       "      <td>ayana-1-img-2.jpg</td>\n",
       "      <td>ayana-1-img-2.txt</td>\n",
       "      <td>../../BristolGorillas2020/images/train/ayana/a...</td>\n",
       "      <td>../../BristolGorillas2020/images/train/ayana/a...</td>\n",
       "      <td>1 0.914844 0.618981 0.167187 0.308333</td>\n",
       "      <td>NaN</td>\n",
       "      <td>NaN</td>\n",
       "    </tr>\n",
       "    <tr>\n",
       "      <th>2</th>\n",
       "      <td>2</td>\n",
       "      <td>ayana-1-img-3.jpg</td>\n",
       "      <td>ayana-1-img-3.txt</td>\n",
       "      <td>../../BristolGorillas2020/images/train/ayana/a...</td>\n",
       "      <td>../../BristolGorillas2020/images/train/ayana/a...</td>\n",
       "      <td>1 0.657031 0.431481 0.030729 0.079630</td>\n",
       "      <td>NaN</td>\n",
       "      <td>NaN</td>\n",
       "    </tr>\n",
       "    <tr>\n",
       "      <th>3</th>\n",
       "      <td>3</td>\n",
       "      <td>ayana-1-img-4.jpg</td>\n",
       "      <td>ayana-1-img-4.txt</td>\n",
       "      <td>../../BristolGorillas2020/images/train/ayana/a...</td>\n",
       "      <td>../../BristolGorillas2020/images/train/ayana/a...</td>\n",
       "      <td>1 0.473438 0.503241 0.023958 0.058333</td>\n",
       "      <td>NaN</td>\n",
       "      <td>NaN</td>\n",
       "    </tr>\n",
       "    <tr>\n",
       "      <th>4</th>\n",
       "      <td>4</td>\n",
       "      <td>ayana-1-img-5.jpg</td>\n",
       "      <td>ayana-1-img-5.txt</td>\n",
       "      <td>../../BristolGorillas2020/images/train/ayana/a...</td>\n",
       "      <td>../../BristolGorillas2020/images/train/ayana/a...</td>\n",
       "      <td>1 0.575521 0.295370 0.044792 0.083333</td>\n",
       "      <td>NaN</td>\n",
       "      <td>NaN</td>\n",
       "    </tr>\n",
       "  </tbody>\n",
       "</table>\n",
       "</div>"
      ],
      "text/plain": [
       "   Unnamed: 0          file_name    annotation_file  \\\n",
       "0           0  ayana-1-img-1.jpg  ayana-1-img-1.txt   \n",
       "1           1  ayana-1-img-2.jpg  ayana-1-img-2.txt   \n",
       "2           2  ayana-1-img-3.jpg  ayana-1-img-3.txt   \n",
       "3           3  ayana-1-img-4.jpg  ayana-1-img-4.txt   \n",
       "4           4  ayana-1-img-5.jpg  ayana-1-img-5.txt   \n",
       "\n",
       "                                          image_path  \\\n",
       "0  ../../BristolGorillas2020/images/train/ayana/a...   \n",
       "1  ../../BristolGorillas2020/images/train/ayana/a...   \n",
       "2  ../../BristolGorillas2020/images/train/ayana/a...   \n",
       "3  ../../BristolGorillas2020/images/train/ayana/a...   \n",
       "4  ../../BristolGorillas2020/images/train/ayana/a...   \n",
       "\n",
       "                                     annotation_path  \\\n",
       "0  ../../BristolGorillas2020/images/train/ayana/a...   \n",
       "1  ../../BristolGorillas2020/images/train/ayana/a...   \n",
       "2  ../../BristolGorillas2020/images/train/ayana/a...   \n",
       "3  ../../BristolGorillas2020/images/train/ayana/a...   \n",
       "4  ../../BristolGorillas2020/images/train/ayana/a...   \n",
       "\n",
       "                            annotation_0 annotation_1 annotation_2  \n",
       "0  1 0.557292 0.212500 0.026042 0.036111          NaN          NaN  \n",
       "1  1 0.914844 0.618981 0.167187 0.308333          NaN          NaN  \n",
       "2  1 0.657031 0.431481 0.030729 0.079630          NaN          NaN  \n",
       "3  1 0.473438 0.503241 0.023958 0.058333          NaN          NaN  \n",
       "4  1 0.575521 0.295370 0.044792 0.083333          NaN          NaN  "
      ]
     },
     "execution_count": 25,
     "metadata": {},
     "output_type": "execute_result"
    }
   ],
   "source": [
    "dataset.head()"
   ]
  },
  {
   "cell_type": "code",
   "execution_count": 26,
   "id": "following-wheel",
   "metadata": {},
   "outputs": [],
   "source": [
    "dataset.drop(columns=['annotation_1','annotation_2'],inplace=True)\n",
    "dataset.dropna(inplace=True)"
   ]
  },
  {
   "cell_type": "code",
   "execution_count": 27,
   "id": "subject-treatment",
   "metadata": {},
   "outputs": [],
   "source": [
    "bristol_gorillas=BristolGorilla2020(path=path,dataset=dataset,transform=transform)"
   ]
  },
  {
   "cell_type": "code",
   "execution_count": 28,
   "id": "little-brown",
   "metadata": {},
   "outputs": [],
   "source": [
    "train_loader=DataLoader(dataset=bristol_gorillas,batch_size=10,shuffle=True)"
   ]
  },
  {
   "cell_type": "code",
   "execution_count": 29,
   "id": "funky-threat",
   "metadata": {},
   "outputs": [],
   "source": [
    "img, label = next(iter(train_loader))"
   ]
  },
  {
   "cell_type": "code",
   "execution_count": 30,
   "id": "relative-april",
   "metadata": {},
   "outputs": [
    {
     "data": {
      "text/plain": [
       "(torch.Size([10, 3, 50, 50]), tensor([3, 1, 3, 2, 0, 5, 6, 2, 4, 6]))"
      ]
     },
     "execution_count": 30,
     "metadata": {},
     "output_type": "execute_result"
    }
   ],
   "source": [
    "img.shape, label"
   ]
  },
  {
   "cell_type": "code",
   "execution_count": 31,
   "id": "cutting-chemical",
   "metadata": {},
   "outputs": [
    {
     "data": {
      "image/png": "[encoded data removed]",
      "text/plain": [
       "<Figure size 432x288 with 1 Axes>"
      ]
     },
     "metadata": {
      "needs_background": "light"
     },
     "output_type": "display_data"
    }
   ],
   "source": [
    "import matplotlib.pyplot as plt\n",
    "plt.imshow(img[1].permute(1, 2, 0));"
   ]
  },
  {
   "cell_type": "markdown",
   "id": "abroad-defendant",
   "metadata": {},
   "source": [
    "**Learn2learn**"
   ]
  },
  {
   "cell_type": "code",
   "execution_count": 35,
   "id": "subsequent-liquid",
   "metadata": {},
   "outputs": [],
   "source": [
    "import learn2learn as l2l"
   ]
  },
  {
   "cell_type": "code",
   "execution_count": 37,
   "id": "colored-cornell",
   "metadata": {},
   "outputs": [],
   "source": [
    "dataset = dataset[:100]"
   ]
  },
  {
   "cell_type": "code",
   "execution_count": 38,
   "id": "polyphonic-milan",
   "metadata": {},
   "outputs": [],
   "source": [
    "dataset = l2l.data.MetaDataset(BristolGorilla2020(path=path,dataset=dataset,transform=transform))"
   ]
  },
  {
   "cell_type": "code",
   "execution_count": 43,
   "id": "recent-arabic",
   "metadata": {},
   "outputs": [],
   "source": [
    "transforms = [  # Easy to define your own transform\n",
    "    l2l.data.transforms.NWays(dataset, n=1),\n",
    "    l2l.data.transforms.KShots(dataset, k=1),\n",
    "    l2l.data.transforms.LoadData(dataset),\n",
    "]\n",
    "taskset = l2l.data.TaskDataset(dataset, transforms, num_tasks=10)\n",
    "for task in taskset:\n",
    "    X, y = task"
   ]
  },
  {
   "cell_type": "code",
   "execution_count": 45,
   "id": "outside-manufacturer",
   "metadata": {},
   "outputs": [
    {
     "data": {
      "text/plain": [
       "(tensor([[[[0.1686, 0.1778, 0.1831,  ..., 0.3357, 0.3009, 0.2734],\n",
       "           [0.1631, 0.1707, 0.1737,  ..., 0.3431, 0.3133, 0.2776],\n",
       "           [0.1647, 0.1659, 0.1686,  ..., 0.3451, 0.3208, 0.2784],\n",
       "           ...,\n",
       "           [0.3494, 0.3494, 0.3431,  ..., 0.5333, 0.5451, 0.5698],\n",
       "           [0.3664, 0.3725, 0.3639,  ..., 0.5114, 0.5379, 0.5840],\n",
       "           [0.3635, 0.3825, 0.3753,  ..., 0.5051, 0.5296, 0.5557]],\n",
       " \n",
       "          [[0.1380, 0.1472, 0.1541,  ..., 0.4831, 0.4821, 0.4951],\n",
       "           [0.1357, 0.1432, 0.1463,  ..., 0.4773, 0.4828, 0.4875],\n",
       "           [0.1373, 0.1384, 0.1412,  ..., 0.4686, 0.4800, 0.4788],\n",
       "           ...,\n",
       "           [0.2945, 0.2945, 0.2882,  ..., 0.4667, 0.4824, 0.5071],\n",
       "           [0.3115, 0.3176, 0.3090,  ..., 0.4431, 0.4742, 0.5213],\n",
       "           [0.3117, 0.3307, 0.3235,  ..., 0.4345, 0.4601, 0.4923]],\n",
       " \n",
       "          [[0.1357, 0.1449, 0.1471,  ..., 0.4263, 0.4205, 0.4260],\n",
       "           [0.1239, 0.1315, 0.1345,  ..., 0.4227, 0.4220, 0.4213],\n",
       "           [0.1255, 0.1267, 0.1294,  ..., 0.4157, 0.4224, 0.4129],\n",
       "           ...,\n",
       "           [0.2710, 0.2710, 0.2647,  ..., 0.4216, 0.4353, 0.4600],\n",
       "           [0.2879, 0.2940, 0.2855,  ..., 0.3988, 0.4276, 0.4742],\n",
       "           [0.2819, 0.3009, 0.2937,  ..., 0.3914, 0.4164, 0.4456]]]]),\n",
       " tensor([1]))"
      ]
     },
     "execution_count": 45,
     "metadata": {},
     "output_type": "execute_result"
    }
   ],
   "source": [
    "X, y"
   ]
  },
  {
   "cell_type": "code",
   "execution_count": null,
   "id": "aboriginal-paragraph",
   "metadata": {},
   "outputs": [],
   "source": []
  }
 ],
 "metadata": {
  "kernelspec": {
   "display_name": "Python 3",
   "language": "python",
   "name": "python3"
  },
  "language_info": {
   "codemirror_mode": {
    "name": "ipython",
    "version": 3
   },
   "file_extension": ".py",
   "mimetype": "text/x-python",
   "name": "python",
   "nbconvert_exporter": "python",
   "pygments_lexer": "ipython3",
   "version": "3.8.5"
  }
 },
 "nbformat": 4,
 "nbformat_minor": 5
}
