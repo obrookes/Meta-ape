{
 "cells": [
  {
   "cell_type": "code",
   "execution_count": 1,
   "id": "defensive-brighton",
   "metadata": {},
   "outputs": [],
   "source": [
    "train_path = '../../BristolGorillas2020/images/train'\n",
    "test_path = '../../BristolGorillas2020/images/test'"
   ]
  },
  {
   "cell_type": "code",
   "execution_count": 2,
   "id": "executed-naples",
   "metadata": {},
   "outputs": [],
   "source": [
    "from __future__ import print_function, division\n",
    "import os\n",
    "import torch\n",
    "import pandas as pd\n",
    "from skimage import io, transform\n",
    "import numpy as np\n",
    "import matplotlib.pyplot as plt\n",
    "from torch.utils.data import Dataset, DataLoader\n",
    "from torchvision import transforms, utils\n",
    "\n",
    "# Ignore warnings\n",
    "import warnings\n",
    "warnings.filterwarnings(\"ignore\")\n",
    "\n",
    "plt.ion()   # interactive mode"
   ]
  },
  {
   "cell_type": "code",
   "execution_count": 10,
   "id": "laughing-tolerance",
   "metadata": {},
   "outputs": [],
   "source": [
    "image_paths = []\n",
    "image_files = []\n",
    "image_annotations = []\n",
    "\n",
    "for path, subdirs, files in os.walk(train_path):\n",
    "    for name in files:\n",
    "        if(name.endswith('.jpg')):\n",
    "            data_point = {}\n",
    "            data_point['file_name'] = name\n",
    "            data_point['file_path'] = (os.path.join(path, name))\n",
    "            data_point['class'] = name.split('-')[0]\n",
    "            image_paths.append(data_point)\n",
    "            \n",
    "        elif(name.endswith('.png')):\n",
    "            data_point = {}\n",
    "            data_point['file_name'] = name\n",
    "            data_point['file_path'] = (os.path.join(path, name))\n",
    "            data_point['class'] = name.split('-')[0]\n",
    "            image_paths.append(data_point)\n",
    "            \n",
    "        elif(name.endswith('.txt')):\n",
    "            data_point = {}\n",
    "            with open(os.path.join(path, name),\"r\") as label:\n",
    "                data_point['annotation_file'] = name\n",
    "                data_point['annotation_path'] = (os.path.join(path, name))\n",
    "                annotation = label.readlines()\n",
    "                annotation = [x.rstrip('\\n') for x in annotation]\n",
    "                for i in range(len(annotation)):\n",
    "                    data_point['annotation_' + str(i)] = annotation[i]\n",
    "            image_annotations.append(data_point)\n",
    "        else:\n",
    "            pass"
   ]
  },
  {
   "cell_type": "code",
   "execution_count": 11,
   "id": "latest-colombia",
   "metadata": {},
   "outputs": [],
   "source": [
    "x = pd.DataFrame(image_paths)"
   ]
  },
  {
   "cell_type": "code",
   "execution_count": 12,
   "id": "heated-anxiety",
   "metadata": {},
   "outputs": [],
   "source": [
    "train_data = pd.DataFrame(image_annotations)"
   ]
  },
  {
   "cell_type": "code",
   "execution_count": 13,
   "id": "another-faith",
   "metadata": {},
   "outputs": [],
   "source": [
    "train_data.insert(0,'file_name',pd.Series(x['file_name']))\n",
    "train_data.insert(2,'image_path',pd.Series(x['file_path']))"
   ]
  },
  {
   "cell_type": "code",
   "execution_count": 16,
   "id": "american-thanksgiving",
   "metadata": {},
   "outputs": [
    {
     "data": {
      "text/html": [
       "<div>\n",
       "<style scoped>\n",
       "    .dataframe tbody tr th:only-of-type {\n",
       "        vertical-align: middle;\n",
       "    }\n",
       "\n",
       "    .dataframe tbody tr th {\n",
       "        vertical-align: top;\n",
       "    }\n",
       "\n",
       "    .dataframe thead th {\n",
       "        text-align: right;\n",
       "    }\n",
       "</style>\n",
       "<table border=\"1\" class=\"dataframe\">\n",
       "  <thead>\n",
       "    <tr style=\"text-align: right;\">\n",
       "      <th></th>\n",
       "      <th>file_name</th>\n",
       "      <th>annotation_file</th>\n",
       "      <th>image_path</th>\n",
       "      <th>annotation_path</th>\n",
       "      <th>annotation_0</th>\n",
       "      <th>annotation_1</th>\n",
       "      <th>annotation_2</th>\n",
       "    </tr>\n",
       "  </thead>\n",
       "  <tbody>\n",
       "    <tr>\n",
       "      <th>0</th>\n",
       "      <td>ayana-1-img-1.jpg</td>\n",
       "      <td>ayana-1-img-1.txt</td>\n",
       "      <td>../../BristolGorillas2020/images/train/ayana/a...</td>\n",
       "      <td>../../BristolGorillas2020/images/train/ayana/a...</td>\n",
       "      <td>1 0.557292 0.212500 0.026042 0.036111</td>\n",
       "      <td>NaN</td>\n",
       "      <td>NaN</td>\n",
       "    </tr>\n",
       "    <tr>\n",
       "      <th>1</th>\n",
       "      <td>ayana-1-img-2.jpg</td>\n",
       "      <td>ayana-1-img-2.txt</td>\n",
       "      <td>../../BristolGorillas2020/images/train/ayana/a...</td>\n",
       "      <td>../../BristolGorillas2020/images/train/ayana/a...</td>\n",
       "      <td>1 0.914844 0.618981 0.167187 0.308333</td>\n",
       "      <td>NaN</td>\n",
       "      <td>NaN</td>\n",
       "    </tr>\n",
       "    <tr>\n",
       "      <th>2</th>\n",
       "      <td>ayana-1-img-3.jpg</td>\n",
       "      <td>ayana-1-img-3.txt</td>\n",
       "      <td>../../BristolGorillas2020/images/train/ayana/a...</td>\n",
       "      <td>../../BristolGorillas2020/images/train/ayana/a...</td>\n",
       "      <td>1 0.657031 0.431481 0.030729 0.079630</td>\n",
       "      <td>NaN</td>\n",
       "      <td>NaN</td>\n",
       "    </tr>\n",
       "    <tr>\n",
       "      <th>3</th>\n",
       "      <td>ayana-1-img-4.jpg</td>\n",
       "      <td>ayana-1-img-4.txt</td>\n",
       "      <td>../../BristolGorillas2020/images/train/ayana/a...</td>\n",
       "      <td>../../BristolGorillas2020/images/train/ayana/a...</td>\n",
       "      <td>1 0.473438 0.503241 0.023958 0.058333</td>\n",
       "      <td>NaN</td>\n",
       "      <td>NaN</td>\n",
       "    </tr>\n",
       "    <tr>\n",
       "      <th>4</th>\n",
       "      <td>ayana-1-img-5.jpg</td>\n",
       "      <td>ayana-1-img-5.txt</td>\n",
       "      <td>../../BristolGorillas2020/images/train/ayana/a...</td>\n",
       "      <td>../../BristolGorillas2020/images/train/ayana/a...</td>\n",
       "      <td>1 0.575521 0.295370 0.044792 0.083333</td>\n",
       "      <td>NaN</td>\n",
       "      <td>NaN</td>\n",
       "    </tr>\n",
       "  </tbody>\n",
       "</table>\n",
       "</div>"
      ],
      "text/plain": [
       "           file_name    annotation_file  \\\n",
       "0  ayana-1-img-1.jpg  ayana-1-img-1.txt   \n",
       "1  ayana-1-img-2.jpg  ayana-1-img-2.txt   \n",
       "2  ayana-1-img-3.jpg  ayana-1-img-3.txt   \n",
       "3  ayana-1-img-4.jpg  ayana-1-img-4.txt   \n",
       "4  ayana-1-img-5.jpg  ayana-1-img-5.txt   \n",
       "\n",
       "                                          image_path  \\\n",
       "0  ../../BristolGorillas2020/images/train/ayana/a...   \n",
       "1  ../../BristolGorillas2020/images/train/ayana/a...   \n",
       "2  ../../BristolGorillas2020/images/train/ayana/a...   \n",
       "3  ../../BristolGorillas2020/images/train/ayana/a...   \n",
       "4  ../../BristolGorillas2020/images/train/ayana/a...   \n",
       "\n",
       "                                     annotation_path  \\\n",
       "0  ../../BristolGorillas2020/images/train/ayana/a...   \n",
       "1  ../../BristolGorillas2020/images/train/ayana/a...   \n",
       "2  ../../BristolGorillas2020/images/train/ayana/a...   \n",
       "3  ../../BristolGorillas2020/images/train/ayana/a...   \n",
       "4  ../../BristolGorillas2020/images/train/ayana/a...   \n",
       "\n",
       "                            annotation_0 annotation_1 annotation_2  \n",
       "0  1 0.557292 0.212500 0.026042 0.036111          NaN          NaN  \n",
       "1  1 0.914844 0.618981 0.167187 0.308333          NaN          NaN  \n",
       "2  1 0.657031 0.431481 0.030729 0.079630          NaN          NaN  \n",
       "3  1 0.473438 0.503241 0.023958 0.058333          NaN          NaN  \n",
       "4  1 0.575521 0.295370 0.044792 0.083333          NaN          NaN  "
      ]
     },
     "execution_count": 16,
     "metadata": {},
     "output_type": "execute_result"
    }
   ],
   "source": [
    "train_data.head()"
   ]
  },
  {
   "cell_type": "code",
   "execution_count": 13,
   "id": "advisory-details",
   "metadata": {},
   "outputs": [],
   "source": [
    "train_data.to_csv('bg2020_train.csv')"
   ]
  },
  {
   "cell_type": "code",
   "execution_count": 17,
   "id": "amber-values",
   "metadata": {},
   "outputs": [
    {
     "data": {
      "text/plain": [
       "True"
      ]
     },
     "execution_count": 17,
     "metadata": {},
     "output_type": "execute_result"
    }
   ],
   "source": [
    "train_data['annotation_0'].isnull().values.any()"
   ]
  },
  {
   "cell_type": "code",
   "execution_count": 18,
   "id": "rising-appraisal",
   "metadata": {},
   "outputs": [
    {
     "data": {
      "text/plain": [
       "6"
      ]
     },
     "execution_count": 18,
     "metadata": {},
     "output_type": "execute_result"
    }
   ],
   "source": [
    "train_data['annotation_0'].isnull().sum()"
   ]
  },
  {
   "cell_type": "code",
   "execution_count": null,
   "id": "broadband-independence",
   "metadata": {},
   "outputs": [],
   "source": []
  }
 ],
 "metadata": {
  "kernelspec": {
   "display_name": "Python 3",
   "language": "python",
   "name": "python3"
  },
  "language_info": {
   "codemirror_mode": {
    "name": "ipython",
    "version": 3
   },
   "file_extension": ".py",
   "mimetype": "text/x-python",
   "name": "python",
   "nbconvert_exporter": "python",
   "pygments_lexer": "ipython3",
   "version": "3.8.5"
  }
 },
 "nbformat": 4,
 "nbformat_minor": 5
}
